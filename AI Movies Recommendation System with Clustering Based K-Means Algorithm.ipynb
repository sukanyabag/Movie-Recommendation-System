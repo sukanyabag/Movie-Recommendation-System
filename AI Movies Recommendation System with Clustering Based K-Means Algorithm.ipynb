{
 "cells": [
  {
   "cell_type": "markdown",
   "source": [
    "## Importing All Required Liabraries"
   ],
   "metadata": {
    "colab_type": "text",
    "id": "jCfqaJIJrutF"
   }
  },
  {
   "cell_type": "code",
   "execution_count": 2,
   "source": [
    "import pandas as pd\r\n",
    "print('Pandas version: ', pd.__version__)\r\n",
    "\r\n",
    "import numpy as np\r\n",
    "print('NumPy version: ', np.__version__)\r\n",
    "\r\n",
    "import matplotlib\r\n",
    "print('Matplotlib version: ', matplotlib.__version__)\r\n",
    "\r\n",
    "from matplotlib import pyplot as plt\r\n",
    "\r\n",
    "import sklearn\r\n",
    "print('Scikit-Learn version: ', sklearn.__version__)\r\n",
    "\r\n",
    "from sklearn.feature_extraction.text import CountVectorizer\r\n",
    "\r\n",
    "from sklearn.cluster import KMeans\r\n",
    "\r\n",
    "\r\n",
    "import pickle\r\n",
    "print('Pickle version: ', pickle.format_version)\r\n",
    "\r\n",
    "import sys\r\n",
    "print('Sys version: ', sys.version[0:5])\r\n",
    "\r\n",
    "from sys import exc_info\r\n",
    "\r\n",
    "import ast"
   ],
   "outputs": [
    {
     "output_type": "stream",
     "name": "stdout",
     "text": [
      "Pandas version:  1.2.3\n",
      "NumPy version:  1.19.5\n",
      "Matplotlib version:  3.4.3\n",
      "Scikit-Learn version:  0.23.2\n",
      "Pickle version:  4.0\n",
      "Sys version:  3.8.6\n"
     ]
    }
   ],
   "metadata": {
    "colab": {},
    "colab_type": "code",
    "executionInfo": {
     "elapsed": 3745,
     "status": "ok",
     "timestamp": 1597420628587,
     "user": {
      "displayName": "Syed Muhammad Asad",
      "photoUrl": "https://lh3.googleusercontent.com/-fB2ssjtxx5A/AAAAAAAAAAI/AAAAAAAABn4/leYKxTW8Cqs/s64/photo.jpg",
      "userId": "01049030658086144010"
     },
     "user_tz": -300
    },
    "id": "eucyGUOMrutO"
   }
  },
  {
   "cell_type": "markdown",
   "source": [
    "## Data Engineering"
   ],
   "metadata": {}
  },
  {
   "cell_type": "code",
   "execution_count": 3,
   "source": [
    "ratings = pd.read_csv('./Prepairing Data/From Data/ratings.csv', usecols = ['userId', 'movieId','rating'])\r\n",
    "print('Shape of ratings dataset is: ',ratings.shape, '\\n')\r\n",
    "print('Max values in dataset are \\n',ratings.max(), '\\n')\r\n",
    "print('Min values in dataset are \\n',ratings.min(), '\\n')"
   ],
   "outputs": [
    {
     "output_type": "stream",
     "name": "stdout",
     "text": [
      "Shape of ratings dataset is:  (447, 3) \n",
      "\n",
      "Max values in dataset are \n",
      " userId     157.0\n",
      "movieId    198.0\n",
      "rating       5.0\n",
      "dtype: float64 \n",
      "\n",
      "Min values in dataset are \n",
      " userId     1.0\n",
      "movieId    1.0\n",
      "rating     4.0\n",
      "dtype: float64 \n",
      "\n"
     ]
    }
   ],
   "metadata": {
    "scrolled": false
   }
  },
  {
   "cell_type": "code",
   "execution_count": 4,
   "source": [
    "# Filtering data for only 4+ ratings\r\n",
    "ratings = ratings[ratings['rating'] >= 4.0]\r\n",
    "print('Shape of ratings dataset is: ',ratings.shape, '\\n')\r\n",
    "print('Max values in dataset are \\n',ratings.max(), '\\n')\r\n",
    "print('Min values in dataset are \\n',ratings.min(), '\\n')"
   ],
   "outputs": [
    {
     "output_type": "stream",
     "name": "stdout",
     "text": [
      "Shape of ratings dataset is:  (447, 3) \n",
      "\n",
      "Max values in dataset are \n",
      " userId     157.0\n",
      "movieId    198.0\n",
      "rating       5.0\n",
      "dtype: float64 \n",
      "\n",
      "Min values in dataset are \n",
      " userId     1.0\n",
      "movieId    1.0\n",
      "rating     4.0\n",
      "dtype: float64 \n",
      "\n"
     ]
    }
   ],
   "metadata": {}
  },
  {
   "cell_type": "code",
   "execution_count": 5,
   "source": [
    "movies_list = np.unique(ratings['movieId'])[:200]\r\n",
    "ratings = ratings.loc[ratings['movieId'].isin(movies_list)]\r\n",
    "print('Shape of ratings dataset is: ',ratings.shape, '\\n')\r\n",
    "print('Max values in dataset are \\n',ratings.max(), '\\n')\r\n",
    "print('Min values in dataset are \\n',ratings.min(), '\\n')"
   ],
   "outputs": [
    {
     "output_type": "stream",
     "name": "stdout",
     "text": [
      "Shape of ratings dataset is:  (447, 3) \n",
      "\n",
      "Max values in dataset are \n",
      " userId     157.0\n",
      "movieId    198.0\n",
      "rating       5.0\n",
      "dtype: float64 \n",
      "\n",
      "Min values in dataset are \n",
      " userId     1.0\n",
      "movieId    1.0\n",
      "rating     4.0\n",
      "dtype: float64 \n",
      "\n"
     ]
    }
   ],
   "metadata": {}
  },
  {
   "cell_type": "code",
   "execution_count": 6,
   "source": [
    "users_list = np.unique(ratings['userId'])[:100]\r\n",
    "ratings = ratings.loc[ratings['userId'].isin(users_list)]\r\n",
    "print('Shape of ratings dataset is: ',ratings.shape, '\\n')\r\n",
    "print('Max values in dataset are \\n',ratings.max(), '\\n')\r\n",
    "print('Min values in dataset are \\n',ratings.min(), '\\n')\r\n",
    "print('Total Users: ', np.unique(ratings['userId']).shape[0])\r\n",
    "print('Total Movies which are rated by 100 users: ', np.unique(ratings['movieId']).shape[0])"
   ],
   "outputs": [
    {
     "output_type": "stream",
     "name": "stdout",
     "text": [
      "Shape of ratings dataset is:  (447, 3) \n",
      "\n",
      "Max values in dataset are \n",
      " userId     157.0\n",
      "movieId    198.0\n",
      "rating       5.0\n",
      "dtype: float64 \n",
      "\n",
      "Min values in dataset are \n",
      " userId     1.0\n",
      "movieId    1.0\n",
      "rating     4.0\n",
      "dtype: float64 \n",
      "\n",
      "Total Users:  100\n",
      "Total Movies which are rated by 100 users:  83\n"
     ]
    }
   ],
   "metadata": {}
  },
  {
   "cell_type": "code",
   "execution_count": 7,
   "source": [
    "users_fav_movies = ratings.loc[:, ['userId', 'movieId']]"
   ],
   "outputs": [],
   "metadata": {}
  },
  {
   "cell_type": "code",
   "execution_count": 8,
   "source": [
    "users_fav_movies = ratings.reset_index(drop = True)"
   ],
   "outputs": [],
   "metadata": {}
  },
  {
   "cell_type": "code",
   "execution_count": 9,
   "source": [
    "users_fav_movies.T"
   ],
   "outputs": [
    {
     "output_type": "execute_result",
     "data": {
      "text/plain": [
       "           0     1     2    3     4    5      6      7      8     9    ...  \\\n",
       "userId     1.0   2.0   2.0  8.0   8.0  9.0    9.0   10.0   10.0  11.0  ...   \n",
       "movieId  147.0  64.0  79.0  1.0  47.0  1.0  150.0  150.0  165.0  34.0  ...   \n",
       "rating     4.5   4.0   4.0  4.0   4.0  4.5    4.0    4.0    4.0   4.0  ...   \n",
       "\n",
       "           437    438    439    440    441    442    443    444    445    446  \n",
       "userId   153.0  153.0  155.0  155.0  156.0  156.0  156.0  156.0  156.0  157.0  \n",
       "movieId  175.0  198.0   32.0  107.0   17.0   25.0   36.0   58.0   80.0  111.0  \n",
       "rating     4.5    4.0    4.5    5.0    4.0    5.0    5.0    5.0    4.0    4.0  \n",
       "\n",
       "[3 rows x 447 columns]"
      ],
      "text/html": [
       "<div>\n",
       "<style scoped>\n",
       "    .dataframe tbody tr th:only-of-type {\n",
       "        vertical-align: middle;\n",
       "    }\n",
       "\n",
       "    .dataframe tbody tr th {\n",
       "        vertical-align: top;\n",
       "    }\n",
       "\n",
       "    .dataframe thead th {\n",
       "        text-align: right;\n",
       "    }\n",
       "</style>\n",
       "<table border=\"1\" class=\"dataframe\">\n",
       "  <thead>\n",
       "    <tr style=\"text-align: right;\">\n",
       "      <th></th>\n",
       "      <th>0</th>\n",
       "      <th>1</th>\n",
       "      <th>2</th>\n",
       "      <th>3</th>\n",
       "      <th>4</th>\n",
       "      <th>5</th>\n",
       "      <th>6</th>\n",
       "      <th>7</th>\n",
       "      <th>8</th>\n",
       "      <th>9</th>\n",
       "      <th>...</th>\n",
       "      <th>437</th>\n",
       "      <th>438</th>\n",
       "      <th>439</th>\n",
       "      <th>440</th>\n",
       "      <th>441</th>\n",
       "      <th>442</th>\n",
       "      <th>443</th>\n",
       "      <th>444</th>\n",
       "      <th>445</th>\n",
       "      <th>446</th>\n",
       "    </tr>\n",
       "  </thead>\n",
       "  <tbody>\n",
       "    <tr>\n",
       "      <th>userId</th>\n",
       "      <td>1.0</td>\n",
       "      <td>2.0</td>\n",
       "      <td>2.0</td>\n",
       "      <td>8.0</td>\n",
       "      <td>8.0</td>\n",
       "      <td>9.0</td>\n",
       "      <td>9.0</td>\n",
       "      <td>10.0</td>\n",
       "      <td>10.0</td>\n",
       "      <td>11.0</td>\n",
       "      <td>...</td>\n",
       "      <td>153.0</td>\n",
       "      <td>153.0</td>\n",
       "      <td>155.0</td>\n",
       "      <td>155.0</td>\n",
       "      <td>156.0</td>\n",
       "      <td>156.0</td>\n",
       "      <td>156.0</td>\n",
       "      <td>156.0</td>\n",
       "      <td>156.0</td>\n",
       "      <td>157.0</td>\n",
       "    </tr>\n",
       "    <tr>\n",
       "      <th>movieId</th>\n",
       "      <td>147.0</td>\n",
       "      <td>64.0</td>\n",
       "      <td>79.0</td>\n",
       "      <td>1.0</td>\n",
       "      <td>47.0</td>\n",
       "      <td>1.0</td>\n",
       "      <td>150.0</td>\n",
       "      <td>150.0</td>\n",
       "      <td>165.0</td>\n",
       "      <td>34.0</td>\n",
       "      <td>...</td>\n",
       "      <td>175.0</td>\n",
       "      <td>198.0</td>\n",
       "      <td>32.0</td>\n",
       "      <td>107.0</td>\n",
       "      <td>17.0</td>\n",
       "      <td>25.0</td>\n",
       "      <td>36.0</td>\n",
       "      <td>58.0</td>\n",
       "      <td>80.0</td>\n",
       "      <td>111.0</td>\n",
       "    </tr>\n",
       "    <tr>\n",
       "      <th>rating</th>\n",
       "      <td>4.5</td>\n",
       "      <td>4.0</td>\n",
       "      <td>4.0</td>\n",
       "      <td>4.0</td>\n",
       "      <td>4.0</td>\n",
       "      <td>4.5</td>\n",
       "      <td>4.0</td>\n",
       "      <td>4.0</td>\n",
       "      <td>4.0</td>\n",
       "      <td>4.0</td>\n",
       "      <td>...</td>\n",
       "      <td>4.5</td>\n",
       "      <td>4.0</td>\n",
       "      <td>4.5</td>\n",
       "      <td>5.0</td>\n",
       "      <td>4.0</td>\n",
       "      <td>5.0</td>\n",
       "      <td>5.0</td>\n",
       "      <td>5.0</td>\n",
       "      <td>4.0</td>\n",
       "      <td>4.0</td>\n",
       "    </tr>\n",
       "  </tbody>\n",
       "</table>\n",
       "<p>3 rows × 447 columns</p>\n",
       "</div>"
      ]
     },
     "metadata": {},
     "execution_count": 9
    }
   ],
   "metadata": {}
  },
  {
   "cell_type": "code",
   "execution_count": 10,
   "source": [
    "users_fav_movies.to_csv('./Prepairing Data/From Data/filtered_ratings.csv')"
   ],
   "outputs": [],
   "metadata": {}
  },
  {
   "cell_type": "code",
   "execution_count": 11,
   "source": [
    "def moviesListForUsers(users, users_data):\r\n",
    "    # users = a list of users IDs\r\n",
    "    # users_data = a dataframe of users favourite movies or users watched movies\r\n",
    "    users_movies_list = []\r\n",
    "    for user in users:\r\n",
    "        users_movies_list.append(str(list(users_data[users_data['userId'] == user]['movieId'])).split('[')[1].split(']')[0])\r\n",
    "    return users_movies_list"
   ],
   "outputs": [],
   "metadata": {
    "colab": {},
    "colab_type": "code",
    "id": "yff42q1ZruyV"
   }
  },
  {
   "cell_type": "code",
   "execution_count": 12,
   "source": [
    "users = np.unique(users_fav_movies['userId'])\r\n",
    "print(users.shape)"
   ],
   "outputs": [
    {
     "output_type": "stream",
     "name": "stdout",
     "text": [
      "(100,)\n"
     ]
    }
   ],
   "metadata": {}
  },
  {
   "cell_type": "code",
   "execution_count": 13,
   "source": [
    "users_movies_list = moviesListForUsers(users, users_fav_movies)\r\n",
    "print('Movies list for', len(users_movies_list), ' users')\r\n",
    "print('A list of first 10 users favourite movies: \\n', users_movies_list[:10])"
   ],
   "outputs": [
    {
     "output_type": "stream",
     "name": "stdout",
     "text": [
      "Movies list for 100  users\n",
      "A list of first 10 users favourite movies: \n",
      " ['147', '64, 79', '1, 47', '1, 150', '150, 165', '34', '1, 16, 17, 29, 34, 47, 50, 82, 97, 123, 125, 150, 162, 175, 176, 194', '6', '32, 50, 111, 198', '81']\n"
     ]
    }
   ],
   "metadata": {
    "colab": {},
    "colab_type": "code",
    "id": "mCNqz-x1ruzY"
   }
  },
  {
   "cell_type": "code",
   "execution_count": 14,
   "source": [
    "def prepSparseMatrix(list_of_str):\r\n",
    "    # list_of_str = A list, which contain strings of users favourite movies separate by comma \",\".\r\n",
    "    # It will return us sparse matrix and feature names on which sparse matrix is defined \r\n",
    "    # i.e. name of movies in the same order as the column of sparse matrix\r\n",
    "    cv = CountVectorizer(token_pattern = r'[^\\,\\ ]+', lowercase = False)\r\n",
    "    sparseMatrix = cv.fit_transform(list_of_str)\r\n",
    "    return sparseMatrix.toarray(), cv.get_feature_names()"
   ],
   "outputs": [],
   "metadata": {
    "colab": {},
    "colab_type": "code",
    "id": "IHOh_IBAru11"
   }
  },
  {
   "cell_type": "code",
   "execution_count": 15,
   "source": [
    "sparseMatrix, feature_names = prepSparseMatrix(users_movies_list)"
   ],
   "outputs": [],
   "metadata": {
    "colab": {},
    "colab_type": "code",
    "id": "Fw2LAvRXru3b"
   }
  },
  {
   "cell_type": "code",
   "execution_count": 16,
   "source": [
    "df_sparseMatrix = pd.DataFrame(sparseMatrix, index = users, columns = feature_names)\r\n",
    "df_sparseMatrix"
   ],
   "outputs": [
    {
     "output_type": "execute_result",
     "data": {
      "text/plain": [
       "     1  10  101  104  105  107  11  110  111  112  ...  79  80  81  82  86  \\\n",
       "1    0   0    0    0    0    0   0    0    0    0  ...   0   0   0   0   0   \n",
       "2    0   0    0    0    0    0   0    0    0    0  ...   1   0   0   0   0   \n",
       "8    1   0    0    0    0    0   0    0    0    0  ...   0   0   0   0   0   \n",
       "9    1   0    0    0    0    0   0    0    0    0  ...   0   0   0   0   0   \n",
       "10   0   0    0    0    0    0   0    0    0    0  ...   0   0   0   0   0   \n",
       "..  ..  ..  ...  ...  ...  ...  ..  ...  ...  ...  ...  ..  ..  ..  ..  ..   \n",
       "151  0   0    0    0    0    0   0    1    0    0  ...   0   0   0   0   0   \n",
       "153  1   0    0    0    0    0   0    1    0    0  ...   0   0   0   0   0   \n",
       "155  0   0    0    0    0    1   0    0    0    0  ...   0   0   0   0   0   \n",
       "156  0   0    0    0    0    0   0    0    0    0  ...   0   1   0   0   0   \n",
       "157  0   0    0    0    0    0   0    0    1    0  ...   0   0   0   0   0   \n",
       "\n",
       "     88  89  94  95  97  \n",
       "1     0   0   0   0   0  \n",
       "2     0   0   0   0   0  \n",
       "8     0   0   0   0   0  \n",
       "9     0   0   0   0   0  \n",
       "10    0   0   0   0   0  \n",
       "..   ..  ..  ..  ..  ..  \n",
       "151   0   0   0   0   0  \n",
       "153   0   0   0   0   0  \n",
       "155   0   0   0   0   0  \n",
       "156   0   0   0   0   0  \n",
       "157   0   0   0   0   0  \n",
       "\n",
       "[100 rows x 83 columns]"
      ],
      "text/html": [
       "<div>\n",
       "<style scoped>\n",
       "    .dataframe tbody tr th:only-of-type {\n",
       "        vertical-align: middle;\n",
       "    }\n",
       "\n",
       "    .dataframe tbody tr th {\n",
       "        vertical-align: top;\n",
       "    }\n",
       "\n",
       "    .dataframe thead th {\n",
       "        text-align: right;\n",
       "    }\n",
       "</style>\n",
       "<table border=\"1\" class=\"dataframe\">\n",
       "  <thead>\n",
       "    <tr style=\"text-align: right;\">\n",
       "      <th></th>\n",
       "      <th>1</th>\n",
       "      <th>10</th>\n",
       "      <th>101</th>\n",
       "      <th>104</th>\n",
       "      <th>105</th>\n",
       "      <th>107</th>\n",
       "      <th>11</th>\n",
       "      <th>110</th>\n",
       "      <th>111</th>\n",
       "      <th>112</th>\n",
       "      <th>...</th>\n",
       "      <th>79</th>\n",
       "      <th>80</th>\n",
       "      <th>81</th>\n",
       "      <th>82</th>\n",
       "      <th>86</th>\n",
       "      <th>88</th>\n",
       "      <th>89</th>\n",
       "      <th>94</th>\n",
       "      <th>95</th>\n",
       "      <th>97</th>\n",
       "    </tr>\n",
       "  </thead>\n",
       "  <tbody>\n",
       "    <tr>\n",
       "      <th>1</th>\n",
       "      <td>0</td>\n",
       "      <td>0</td>\n",
       "      <td>0</td>\n",
       "      <td>0</td>\n",
       "      <td>0</td>\n",
       "      <td>0</td>\n",
       "      <td>0</td>\n",
       "      <td>0</td>\n",
       "      <td>0</td>\n",
       "      <td>0</td>\n",
       "      <td>...</td>\n",
       "      <td>0</td>\n",
       "      <td>0</td>\n",
       "      <td>0</td>\n",
       "      <td>0</td>\n",
       "      <td>0</td>\n",
       "      <td>0</td>\n",
       "      <td>0</td>\n",
       "      <td>0</td>\n",
       "      <td>0</td>\n",
       "      <td>0</td>\n",
       "    </tr>\n",
       "    <tr>\n",
       "      <th>2</th>\n",
       "      <td>0</td>\n",
       "      <td>0</td>\n",
       "      <td>0</td>\n",
       "      <td>0</td>\n",
       "      <td>0</td>\n",
       "      <td>0</td>\n",
       "      <td>0</td>\n",
       "      <td>0</td>\n",
       "      <td>0</td>\n",
       "      <td>0</td>\n",
       "      <td>...</td>\n",
       "      <td>1</td>\n",
       "      <td>0</td>\n",
       "      <td>0</td>\n",
       "      <td>0</td>\n",
       "      <td>0</td>\n",
       "      <td>0</td>\n",
       "      <td>0</td>\n",
       "      <td>0</td>\n",
       "      <td>0</td>\n",
       "      <td>0</td>\n",
       "    </tr>\n",
       "    <tr>\n",
       "      <th>8</th>\n",
       "      <td>1</td>\n",
       "      <td>0</td>\n",
       "      <td>0</td>\n",
       "      <td>0</td>\n",
       "      <td>0</td>\n",
       "      <td>0</td>\n",
       "      <td>0</td>\n",
       "      <td>0</td>\n",
       "      <td>0</td>\n",
       "      <td>0</td>\n",
       "      <td>...</td>\n",
       "      <td>0</td>\n",
       "      <td>0</td>\n",
       "      <td>0</td>\n",
       "      <td>0</td>\n",
       "      <td>0</td>\n",
       "      <td>0</td>\n",
       "      <td>0</td>\n",
       "      <td>0</td>\n",
       "      <td>0</td>\n",
       "      <td>0</td>\n",
       "    </tr>\n",
       "    <tr>\n",
       "      <th>9</th>\n",
       "      <td>1</td>\n",
       "      <td>0</td>\n",
       "      <td>0</td>\n",
       "      <td>0</td>\n",
       "      <td>0</td>\n",
       "      <td>0</td>\n",
       "      <td>0</td>\n",
       "      <td>0</td>\n",
       "      <td>0</td>\n",
       "      <td>0</td>\n",
       "      <td>...</td>\n",
       "      <td>0</td>\n",
       "      <td>0</td>\n",
       "      <td>0</td>\n",
       "      <td>0</td>\n",
       "      <td>0</td>\n",
       "      <td>0</td>\n",
       "      <td>0</td>\n",
       "      <td>0</td>\n",
       "      <td>0</td>\n",
       "      <td>0</td>\n",
       "    </tr>\n",
       "    <tr>\n",
       "      <th>10</th>\n",
       "      <td>0</td>\n",
       "      <td>0</td>\n",
       "      <td>0</td>\n",
       "      <td>0</td>\n",
       "      <td>0</td>\n",
       "      <td>0</td>\n",
       "      <td>0</td>\n",
       "      <td>0</td>\n",
       "      <td>0</td>\n",
       "      <td>0</td>\n",
       "      <td>...</td>\n",
       "      <td>0</td>\n",
       "      <td>0</td>\n",
       "      <td>0</td>\n",
       "      <td>0</td>\n",
       "      <td>0</td>\n",
       "      <td>0</td>\n",
       "      <td>0</td>\n",
       "      <td>0</td>\n",
       "      <td>0</td>\n",
       "      <td>0</td>\n",
       "    </tr>\n",
       "    <tr>\n",
       "      <th>...</th>\n",
       "      <td>...</td>\n",
       "      <td>...</td>\n",
       "      <td>...</td>\n",
       "      <td>...</td>\n",
       "      <td>...</td>\n",
       "      <td>...</td>\n",
       "      <td>...</td>\n",
       "      <td>...</td>\n",
       "      <td>...</td>\n",
       "      <td>...</td>\n",
       "      <td>...</td>\n",
       "      <td>...</td>\n",
       "      <td>...</td>\n",
       "      <td>...</td>\n",
       "      <td>...</td>\n",
       "      <td>...</td>\n",
       "      <td>...</td>\n",
       "      <td>...</td>\n",
       "      <td>...</td>\n",
       "      <td>...</td>\n",
       "      <td>...</td>\n",
       "    </tr>\n",
       "    <tr>\n",
       "      <th>151</th>\n",
       "      <td>0</td>\n",
       "      <td>0</td>\n",
       "      <td>0</td>\n",
       "      <td>0</td>\n",
       "      <td>0</td>\n",
       "      <td>0</td>\n",
       "      <td>0</td>\n",
       "      <td>1</td>\n",
       "      <td>0</td>\n",
       "      <td>0</td>\n",
       "      <td>...</td>\n",
       "      <td>0</td>\n",
       "      <td>0</td>\n",
       "      <td>0</td>\n",
       "      <td>0</td>\n",
       "      <td>0</td>\n",
       "      <td>0</td>\n",
       "      <td>0</td>\n",
       "      <td>0</td>\n",
       "      <td>0</td>\n",
       "      <td>0</td>\n",
       "    </tr>\n",
       "    <tr>\n",
       "      <th>153</th>\n",
       "      <td>1</td>\n",
       "      <td>0</td>\n",
       "      <td>0</td>\n",
       "      <td>0</td>\n",
       "      <td>0</td>\n",
       "      <td>0</td>\n",
       "      <td>0</td>\n",
       "      <td>1</td>\n",
       "      <td>0</td>\n",
       "      <td>0</td>\n",
       "      <td>...</td>\n",
       "      <td>0</td>\n",
       "      <td>0</td>\n",
       "      <td>0</td>\n",
       "      <td>0</td>\n",
       "      <td>0</td>\n",
       "      <td>0</td>\n",
       "      <td>0</td>\n",
       "      <td>0</td>\n",
       "      <td>0</td>\n",
       "      <td>0</td>\n",
       "    </tr>\n",
       "    <tr>\n",
       "      <th>155</th>\n",
       "      <td>0</td>\n",
       "      <td>0</td>\n",
       "      <td>0</td>\n",
       "      <td>0</td>\n",
       "      <td>0</td>\n",
       "      <td>1</td>\n",
       "      <td>0</td>\n",
       "      <td>0</td>\n",
       "      <td>0</td>\n",
       "      <td>0</td>\n",
       "      <td>...</td>\n",
       "      <td>0</td>\n",
       "      <td>0</td>\n",
       "      <td>0</td>\n",
       "      <td>0</td>\n",
       "      <td>0</td>\n",
       "      <td>0</td>\n",
       "      <td>0</td>\n",
       "      <td>0</td>\n",
       "      <td>0</td>\n",
       "      <td>0</td>\n",
       "    </tr>\n",
       "    <tr>\n",
       "      <th>156</th>\n",
       "      <td>0</td>\n",
       "      <td>0</td>\n",
       "      <td>0</td>\n",
       "      <td>0</td>\n",
       "      <td>0</td>\n",
       "      <td>0</td>\n",
       "      <td>0</td>\n",
       "      <td>0</td>\n",
       "      <td>0</td>\n",
       "      <td>0</td>\n",
       "      <td>...</td>\n",
       "      <td>0</td>\n",
       "      <td>1</td>\n",
       "      <td>0</td>\n",
       "      <td>0</td>\n",
       "      <td>0</td>\n",
       "      <td>0</td>\n",
       "      <td>0</td>\n",
       "      <td>0</td>\n",
       "      <td>0</td>\n",
       "      <td>0</td>\n",
       "    </tr>\n",
       "    <tr>\n",
       "      <th>157</th>\n",
       "      <td>0</td>\n",
       "      <td>0</td>\n",
       "      <td>0</td>\n",
       "      <td>0</td>\n",
       "      <td>0</td>\n",
       "      <td>0</td>\n",
       "      <td>0</td>\n",
       "      <td>0</td>\n",
       "      <td>1</td>\n",
       "      <td>0</td>\n",
       "      <td>...</td>\n",
       "      <td>0</td>\n",
       "      <td>0</td>\n",
       "      <td>0</td>\n",
       "      <td>0</td>\n",
       "      <td>0</td>\n",
       "      <td>0</td>\n",
       "      <td>0</td>\n",
       "      <td>0</td>\n",
       "      <td>0</td>\n",
       "      <td>0</td>\n",
       "    </tr>\n",
       "  </tbody>\n",
       "</table>\n",
       "<p>100 rows × 83 columns</p>\n",
       "</div>"
      ]
     },
     "metadata": {},
     "execution_count": 16
    }
   ],
   "metadata": {}
  },
  {
   "cell_type": "code",
   "execution_count": 17,
   "source": [
    "first_6_users_SM = users_fav_movies[users_fav_movies['userId'].isin(users[:6])].sort_values('userId')\r\n",
    "first_6_users_SM.T"
   ],
   "outputs": [
    {
     "output_type": "execute_result",
     "data": {
      "text/plain": [
       "             0     1     2    3     4    5      6      7      8     9\n",
       "userId     1.0   2.0   2.0  8.0   8.0  9.0    9.0   10.0   10.0  11.0\n",
       "movieId  147.0  64.0  79.0  1.0  47.0  1.0  150.0  150.0  165.0  34.0\n",
       "rating     4.5   4.0   4.0  4.0   4.0  4.5    4.0    4.0    4.0   4.0"
      ],
      "text/html": [
       "<div>\n",
       "<style scoped>\n",
       "    .dataframe tbody tr th:only-of-type {\n",
       "        vertical-align: middle;\n",
       "    }\n",
       "\n",
       "    .dataframe tbody tr th {\n",
       "        vertical-align: top;\n",
       "    }\n",
       "\n",
       "    .dataframe thead th {\n",
       "        text-align: right;\n",
       "    }\n",
       "</style>\n",
       "<table border=\"1\" class=\"dataframe\">\n",
       "  <thead>\n",
       "    <tr style=\"text-align: right;\">\n",
       "      <th></th>\n",
       "      <th>0</th>\n",
       "      <th>1</th>\n",
       "      <th>2</th>\n",
       "      <th>3</th>\n",
       "      <th>4</th>\n",
       "      <th>5</th>\n",
       "      <th>6</th>\n",
       "      <th>7</th>\n",
       "      <th>8</th>\n",
       "      <th>9</th>\n",
       "    </tr>\n",
       "  </thead>\n",
       "  <tbody>\n",
       "    <tr>\n",
       "      <th>userId</th>\n",
       "      <td>1.0</td>\n",
       "      <td>2.0</td>\n",
       "      <td>2.0</td>\n",
       "      <td>8.0</td>\n",
       "      <td>8.0</td>\n",
       "      <td>9.0</td>\n",
       "      <td>9.0</td>\n",
       "      <td>10.0</td>\n",
       "      <td>10.0</td>\n",
       "      <td>11.0</td>\n",
       "    </tr>\n",
       "    <tr>\n",
       "      <th>movieId</th>\n",
       "      <td>147.0</td>\n",
       "      <td>64.0</td>\n",
       "      <td>79.0</td>\n",
       "      <td>1.0</td>\n",
       "      <td>47.0</td>\n",
       "      <td>1.0</td>\n",
       "      <td>150.0</td>\n",
       "      <td>150.0</td>\n",
       "      <td>165.0</td>\n",
       "      <td>34.0</td>\n",
       "    </tr>\n",
       "    <tr>\n",
       "      <th>rating</th>\n",
       "      <td>4.5</td>\n",
       "      <td>4.0</td>\n",
       "      <td>4.0</td>\n",
       "      <td>4.0</td>\n",
       "      <td>4.0</td>\n",
       "      <td>4.5</td>\n",
       "      <td>4.0</td>\n",
       "      <td>4.0</td>\n",
       "      <td>4.0</td>\n",
       "      <td>4.0</td>\n",
       "    </tr>\n",
       "  </tbody>\n",
       "</table>\n",
       "</div>"
      ]
     },
     "metadata": {},
     "execution_count": 17
    }
   ],
   "metadata": {
    "colab": {},
    "colab_type": "code",
    "id": "jZHWzMUZru4B",
    "outputId": "cf5c0862-d516-48e2-8ed4-9e1bb3de7f80"
   }
  },
  {
   "cell_type": "code",
   "execution_count": 18,
   "source": [
    "df_sparseMatrix.loc[np.unique(first_6_users_SM['userId']), list(map(str, np.unique(first_6_users_SM['movieId'])))]"
   ],
   "outputs": [
    {
     "output_type": "execute_result",
     "data": {
      "text/plain": [
       "    1  34  47  64  79  147  150  165\n",
       "1   0   0   0   0   0    1    0    0\n",
       "2   0   0   0   1   1    0    0    0\n",
       "8   1   0   1   0   0    0    0    0\n",
       "9   1   0   0   0   0    0    1    0\n",
       "10  0   0   0   0   0    0    1    1\n",
       "11  0   1   0   0   0    0    0    0"
      ],
      "text/html": [
       "<div>\n",
       "<style scoped>\n",
       "    .dataframe tbody tr th:only-of-type {\n",
       "        vertical-align: middle;\n",
       "    }\n",
       "\n",
       "    .dataframe tbody tr th {\n",
       "        vertical-align: top;\n",
       "    }\n",
       "\n",
       "    .dataframe thead th {\n",
       "        text-align: right;\n",
       "    }\n",
       "</style>\n",
       "<table border=\"1\" class=\"dataframe\">\n",
       "  <thead>\n",
       "    <tr style=\"text-align: right;\">\n",
       "      <th></th>\n",
       "      <th>1</th>\n",
       "      <th>34</th>\n",
       "      <th>47</th>\n",
       "      <th>64</th>\n",
       "      <th>79</th>\n",
       "      <th>147</th>\n",
       "      <th>150</th>\n",
       "      <th>165</th>\n",
       "    </tr>\n",
       "  </thead>\n",
       "  <tbody>\n",
       "    <tr>\n",
       "      <th>1</th>\n",
       "      <td>0</td>\n",
       "      <td>0</td>\n",
       "      <td>0</td>\n",
       "      <td>0</td>\n",
       "      <td>0</td>\n",
       "      <td>1</td>\n",
       "      <td>0</td>\n",
       "      <td>0</td>\n",
       "    </tr>\n",
       "    <tr>\n",
       "      <th>2</th>\n",
       "      <td>0</td>\n",
       "      <td>0</td>\n",
       "      <td>0</td>\n",
       "      <td>1</td>\n",
       "      <td>1</td>\n",
       "      <td>0</td>\n",
       "      <td>0</td>\n",
       "      <td>0</td>\n",
       "    </tr>\n",
       "    <tr>\n",
       "      <th>8</th>\n",
       "      <td>1</td>\n",
       "      <td>0</td>\n",
       "      <td>1</td>\n",
       "      <td>0</td>\n",
       "      <td>0</td>\n",
       "      <td>0</td>\n",
       "      <td>0</td>\n",
       "      <td>0</td>\n",
       "    </tr>\n",
       "    <tr>\n",
       "      <th>9</th>\n",
       "      <td>1</td>\n",
       "      <td>0</td>\n",
       "      <td>0</td>\n",
       "      <td>0</td>\n",
       "      <td>0</td>\n",
       "      <td>0</td>\n",
       "      <td>1</td>\n",
       "      <td>0</td>\n",
       "    </tr>\n",
       "    <tr>\n",
       "      <th>10</th>\n",
       "      <td>0</td>\n",
       "      <td>0</td>\n",
       "      <td>0</td>\n",
       "      <td>0</td>\n",
       "      <td>0</td>\n",
       "      <td>0</td>\n",
       "      <td>1</td>\n",
       "      <td>1</td>\n",
       "    </tr>\n",
       "    <tr>\n",
       "      <th>11</th>\n",
       "      <td>0</td>\n",
       "      <td>1</td>\n",
       "      <td>0</td>\n",
       "      <td>0</td>\n",
       "      <td>0</td>\n",
       "      <td>0</td>\n",
       "      <td>0</td>\n",
       "      <td>0</td>\n",
       "    </tr>\n",
       "  </tbody>\n",
       "</table>\n",
       "</div>"
      ]
     },
     "metadata": {},
     "execution_count": 18
    }
   ],
   "metadata": {
    "colab": {},
    "colab_type": "code",
    "id": "IhjtEWpkru4e",
    "outputId": "0d0a12f1-f474-47dc-aed3-7333dee9ae4d"
   }
  },
  {
   "cell_type": "markdown",
   "source": [
    "## Clustering Model"
   ],
   "metadata": {
    "colab_type": "text",
    "id": "W_zRqndnru44"
   }
  },
  {
   "cell_type": "code",
   "execution_count": 19,
   "source": [
    "class elbowMethod():\r\n",
    "    def __init__(self, sparseMatrix):\r\n",
    "        self.sparseMatrix = sparseMatrix\r\n",
    "        self.wcss = list()\r\n",
    "        self.differences = list()\r\n",
    "    def run(self, init, upto, max_iterations = 300):\r\n",
    "        for i in range(init, upto + 1):\r\n",
    "            kmeans = KMeans(n_clusters=i, init = 'k-means++', max_iter = max_iterations, n_init = 10, random_state = 0)\r\n",
    "            kmeans.fit(sparseMatrix)\r\n",
    "            self.wcss.append(kmeans.inertia_)\r\n",
    "        self.differences = list()\r\n",
    "        for i in range(len(self.wcss)-1):\r\n",
    "            self.differences.append(self.wcss[i] - self.wcss[i+1])\r\n",
    "    def showPlot(self, boundary = 500, upto_cluster = None):\r\n",
    "        if upto_cluster is None:\r\n",
    "            WCSS = self.wcss\r\n",
    "            DIFF = self.differences\r\n",
    "        else:\r\n",
    "            WCSS = self.wcss[:upto_cluster]\r\n",
    "            DIFF = self.differences[:upto_cluster - 1]\r\n",
    "        plt.figure(figsize=(15, 6))\r\n",
    "        plt.subplot(121).set_title('Elbow Method Graph')\r\n",
    "        plt.plot(range(1, len(WCSS) + 1), WCSS)\r\n",
    "        plt.grid(b = True)\r\n",
    "        plt.subplot(122).set_title('Differences in Each Two Consective Clusters')\r\n",
    "        len_differences = len(DIFF)\r\n",
    "        X_differences = range(1, len_differences + 1)\r\n",
    "        plt.plot(X_differences, DIFF)\r\n",
    "        plt.plot(X_differences, np.ones(len_differences)*boundary, 'r')\r\n",
    "        plt.plot(X_differences, np.ones(len_differences)*(-boundary), 'r')\r\n",
    "        plt.grid()\r\n",
    "        plt.show()\r\n",
    "        "
   ],
   "outputs": [],
   "metadata": {
    "colab": {},
    "colab_type": "code",
    "id": "RD3TE5arru5N"
   }
  },
  {
   "cell_type": "code",
   "execution_count": 21,
   "source": [
    "elbow_method = elbowMethod(sparseMatrix)"
   ],
   "outputs": [],
   "metadata": {}
  },
  {
   "cell_type": "code",
   "execution_count": 22,
   "source": [
    "elbow_method.run(1, 10)"
   ],
   "outputs": [],
   "metadata": {}
  },
  {
   "cell_type": "code",
   "execution_count": 23,
   "source": [
    "elbow_method.showPlot(boundary = 10)"
   ],
   "outputs": [
    {
     "output_type": "display_data",
     "data": {
      "text/plain": [
       "<Figure size 1080x432 with 2 Axes>"
      ],
      "image/png": "[encoded data removed]"
     },
     "metadata": {
      "needs_background": "light"
     }
    }
   ],
   "metadata": {}
  },
  {
   "cell_type": "markdown",
   "source": [
    "Since, we don't have any clear elbow yet and also we don't have differences inside the boundary. Now let it for cluster 11-20"
   ],
   "metadata": {}
  },
  {
   "cell_type": "code",
   "execution_count": 24,
   "source": [
    "elbow_method.run(11, 30)"
   ],
   "outputs": [],
   "metadata": {}
  },
  {
   "cell_type": "code",
   "execution_count": 25,
   "source": [
    "elbow_method.showPlot(boundary = 10)"
   ],
   "outputs": [
    {
     "output_type": "display_data",
     "data": {
      "text/plain": [
       "<Figure size 1080x432 with 2 Axes>"
      ],
      "image/png": "[encoded data removed]"
     },
     "metadata": {
      "needs_background": "light"
     }
    }
   ],
   "metadata": {
    "scrolled": false
   }
  },
  {
   "cell_type": "markdown",
   "source": [
    "## Fitting data on Model"
   ],
   "metadata": {}
  },
  {
   "cell_type": "markdown",
   "source": [
    "Now let first create the same k-means model and run it to make predictions."
   ],
   "metadata": {}
  },
  {
   "cell_type": "code",
   "execution_count": 26,
   "source": [
    "kmeans = KMeans(n_clusters=15, init = 'k-means++', max_iter = 300, n_init = 10, random_state = 0)\r\n",
    "clusters = kmeans.fit_predict(sparseMatrix)"
   ],
   "outputs": [],
   "metadata": {}
  },
  {
   "cell_type": "markdown",
   "source": [
    "Now, let create a dataframe where we can see each user cluster number"
   ],
   "metadata": {}
  },
  {
   "cell_type": "code",
   "execution_count": 27,
   "source": [
    "users_cluster = pd.DataFrame(np.concatenate((users.reshape(-1,1), clusters.reshape(-1,1)), axis = 1), columns = ['userId', 'Cluster'])\r\n",
    "users_cluster.T"
   ],
   "outputs": [
    {
     "output_type": "execute_result",
     "data": {
      "text/plain": [
       "         0   1   2   3   4   5   6   7   8   9   ...   90   91   92   93   94  \\\n",
       "userId    1   2   8   9  10  11  12  15  16  18  ...  134  137  142  146  150   \n",
       "Cluster   1   1   5   9   9   1  12   1   2   1  ...    1    1    2    1   14   \n",
       "\n",
       "          95   96   97   98   99  \n",
       "userId   151  153  155  156  157  \n",
       "Cluster    1    9    4   11    2  \n",
       "\n",
       "[2 rows x 100 columns]"
      ],
      "text/html": [
       "<div>\n",
       "<style scoped>\n",
       "    .dataframe tbody tr th:only-of-type {\n",
       "        vertical-align: middle;\n",
       "    }\n",
       "\n",
       "    .dataframe tbody tr th {\n",
       "        vertical-align: top;\n",
       "    }\n",
       "\n",
       "    .dataframe thead th {\n",
       "        text-align: right;\n",
       "    }\n",
       "</style>\n",
       "<table border=\"1\" class=\"dataframe\">\n",
       "  <thead>\n",
       "    <tr style=\"text-align: right;\">\n",
       "      <th></th>\n",
       "      <th>0</th>\n",
       "      <th>1</th>\n",
       "      <th>2</th>\n",
       "      <th>3</th>\n",
       "      <th>4</th>\n",
       "      <th>5</th>\n",
       "      <th>6</th>\n",
       "      <th>7</th>\n",
       "      <th>8</th>\n",
       "      <th>9</th>\n",
       "      <th>...</th>\n",
       "      <th>90</th>\n",
       "      <th>91</th>\n",
       "      <th>92</th>\n",
       "      <th>93</th>\n",
       "      <th>94</th>\n",
       "      <th>95</th>\n",
       "      <th>96</th>\n",
       "      <th>97</th>\n",
       "      <th>98</th>\n",
       "      <th>99</th>\n",
       "    </tr>\n",
       "  </thead>\n",
       "  <tbody>\n",
       "    <tr>\n",
       "      <th>userId</th>\n",
       "      <td>1</td>\n",
       "      <td>2</td>\n",
       "      <td>8</td>\n",
       "      <td>9</td>\n",
       "      <td>10</td>\n",
       "      <td>11</td>\n",
       "      <td>12</td>\n",
       "      <td>15</td>\n",
       "      <td>16</td>\n",
       "      <td>18</td>\n",
       "      <td>...</td>\n",
       "      <td>134</td>\n",
       "      <td>137</td>\n",
       "      <td>142</td>\n",
       "      <td>146</td>\n",
       "      <td>150</td>\n",
       "      <td>151</td>\n",
       "      <td>153</td>\n",
       "      <td>155</td>\n",
       "      <td>156</td>\n",
       "      <td>157</td>\n",
       "    </tr>\n",
       "    <tr>\n",
       "      <th>Cluster</th>\n",
       "      <td>1</td>\n",
       "      <td>1</td>\n",
       "      <td>5</td>\n",
       "      <td>9</td>\n",
       "      <td>9</td>\n",
       "      <td>1</td>\n",
       "      <td>12</td>\n",
       "      <td>1</td>\n",
       "      <td>2</td>\n",
       "      <td>1</td>\n",
       "      <td>...</td>\n",
       "      <td>1</td>\n",
       "      <td>1</td>\n",
       "      <td>2</td>\n",
       "      <td>1</td>\n",
       "      <td>14</td>\n",
       "      <td>1</td>\n",
       "      <td>9</td>\n",
       "      <td>4</td>\n",
       "      <td>11</td>\n",
       "      <td>2</td>\n",
       "    </tr>\n",
       "  </tbody>\n",
       "</table>\n",
       "<p>2 rows × 100 columns</p>\n",
       "</div>"
      ]
     },
     "metadata": {},
     "execution_count": 27
    }
   ],
   "metadata": {
    "scrolled": false
   }
  },
  {
   "cell_type": "code",
   "execution_count": 28,
   "source": [
    "def clustersMovies(users_cluster, users_data):\r\n",
    "    clusters = list(users_cluster['Cluster'])\r\n",
    "    each_cluster_movies = list()\r\n",
    "    for i in range(len(np.unique(clusters))):\r\n",
    "        users_list = list(users_cluster[users_cluster['Cluster'] == i]['userId'])\r\n",
    "        users_movies_list = list()\r\n",
    "        for user in users_list:    \r\n",
    "            users_movies_list.extend(list(users_data[users_data['userId'] == user]['movieId']))\r\n",
    "        users_movies_counts = list()\r\n",
    "        users_movies_counts.extend([[movie, users_movies_list.count(movie)] for movie in np.unique(users_movies_list)])\r\n",
    "        each_cluster_movies.append(pd.DataFrame(users_movies_counts, columns=['movieId', 'Count']).sort_values(by = ['Count'], ascending = False).reset_index(drop=True))\r\n",
    "    return each_cluster_movies"
   ],
   "outputs": [],
   "metadata": {}
  },
  {
   "cell_type": "code",
   "execution_count": 29,
   "source": [
    "cluster_movies = clustersMovies(users_cluster, users_fav_movies)"
   ],
   "outputs": [],
   "metadata": {}
  },
  {
   "cell_type": "markdown",
   "source": [
    "Now, let take a look at any one dataframe of **cluster_movies**. "
   ],
   "metadata": {}
  },
  {
   "cell_type": "code",
   "execution_count": 30,
   "source": [
    "cluster_movies[1].T"
   ],
   "outputs": [
    {
     "output_type": "execute_result",
     "data": {
      "text/plain": [
       "         0    1   2   3   4   5    6   7    8   9   ...  25  26  27  28  29  \\\n",
       "movieId  50  110  39  17  21  29  163  45  147  34  ...  62   5  52  43  41   \n",
       "Count     6    5   3   3   3   3    3   2    2   2  ...   1   1   1   1   1   \n",
       "\n",
       "         30  31  32  33   34  \n",
       "movieId  36  25  24   6  196  \n",
       "Count     1   1   1   1    1  \n",
       "\n",
       "[2 rows x 35 columns]"
      ],
      "text/html": [
       "<div>\n",
       "<style scoped>\n",
       "    .dataframe tbody tr th:only-of-type {\n",
       "        vertical-align: middle;\n",
       "    }\n",
       "\n",
       "    .dataframe tbody tr th {\n",
       "        vertical-align: top;\n",
       "    }\n",
       "\n",
       "    .dataframe thead th {\n",
       "        text-align: right;\n",
       "    }\n",
       "</style>\n",
       "<table border=\"1\" class=\"dataframe\">\n",
       "  <thead>\n",
       "    <tr style=\"text-align: right;\">\n",
       "      <th></th>\n",
       "      <th>0</th>\n",
       "      <th>1</th>\n",
       "      <th>2</th>\n",
       "      <th>3</th>\n",
       "      <th>4</th>\n",
       "      <th>5</th>\n",
       "      <th>6</th>\n",
       "      <th>7</th>\n",
       "      <th>8</th>\n",
       "      <th>9</th>\n",
       "      <th>...</th>\n",
       "      <th>25</th>\n",
       "      <th>26</th>\n",
       "      <th>27</th>\n",
       "      <th>28</th>\n",
       "      <th>29</th>\n",
       "      <th>30</th>\n",
       "      <th>31</th>\n",
       "      <th>32</th>\n",
       "      <th>33</th>\n",
       "      <th>34</th>\n",
       "    </tr>\n",
       "  </thead>\n",
       "  <tbody>\n",
       "    <tr>\n",
       "      <th>movieId</th>\n",
       "      <td>50</td>\n",
       "      <td>110</td>\n",
       "      <td>39</td>\n",
       "      <td>17</td>\n",
       "      <td>21</td>\n",
       "      <td>29</td>\n",
       "      <td>163</td>\n",
       "      <td>45</td>\n",
       "      <td>147</td>\n",
       "      <td>34</td>\n",
       "      <td>...</td>\n",
       "      <td>62</td>\n",
       "      <td>5</td>\n",
       "      <td>52</td>\n",
       "      <td>43</td>\n",
       "      <td>41</td>\n",
       "      <td>36</td>\n",
       "      <td>25</td>\n",
       "      <td>24</td>\n",
       "      <td>6</td>\n",
       "      <td>196</td>\n",
       "    </tr>\n",
       "    <tr>\n",
       "      <th>Count</th>\n",
       "      <td>6</td>\n",
       "      <td>5</td>\n",
       "      <td>3</td>\n",
       "      <td>3</td>\n",
       "      <td>3</td>\n",
       "      <td>3</td>\n",
       "      <td>3</td>\n",
       "      <td>2</td>\n",
       "      <td>2</td>\n",
       "      <td>2</td>\n",
       "      <td>...</td>\n",
       "      <td>1</td>\n",
       "      <td>1</td>\n",
       "      <td>1</td>\n",
       "      <td>1</td>\n",
       "      <td>1</td>\n",
       "      <td>1</td>\n",
       "      <td>1</td>\n",
       "      <td>1</td>\n",
       "      <td>1</td>\n",
       "      <td>1</td>\n",
       "    </tr>\n",
       "  </tbody>\n",
       "</table>\n",
       "<p>2 rows × 35 columns</p>\n",
       "</div>"
      ]
     },
     "metadata": {},
     "execution_count": 30
    }
   ],
   "metadata": {}
  },
  {
   "cell_type": "code",
   "execution_count": 31,
   "source": [
    "for i in range(15):\r\n",
    "    len_users = users_cluster[users_cluster['Cluster'] == i].shape[0]\r\n",
    "    print('Users in Cluster ' + str(i) + ' -> ', len_users)"
   ],
   "outputs": [
    {
     "output_type": "stream",
     "name": "stdout",
     "text": [
      "Users in Cluster 0 ->  1\n",
      "Users in Cluster 1 ->  33\n",
      "Users in Cluster 2 ->  11\n",
      "Users in Cluster 3 ->  1\n",
      "Users in Cluster 4 ->  8\n",
      "Users in Cluster 5 ->  13\n",
      "Users in Cluster 6 ->  1\n",
      "Users in Cluster 7 ->  10\n",
      "Users in Cluster 8 ->  1\n",
      "Users in Cluster 9 ->  15\n",
      "Users in Cluster 10 ->  1\n",
      "Users in Cluster 11 ->  2\n",
      "Users in Cluster 12 ->  1\n",
      "Users in Cluster 13 ->  1\n",
      "Users in Cluster 14 ->  1\n"
     ]
    }
   ],
   "metadata": {}
  },
  {
   "cell_type": "code",
   "execution_count": 32,
   "source": [
    "def getMoviesOfUser(user_id, users_data):\r\n",
    "    return list(users_data[users_data['userId'] == user_id]['movieId'])"
   ],
   "outputs": [],
   "metadata": {}
  },
  {
   "cell_type": "code",
   "execution_count": 33,
   "source": [
    "def fixClusters(clusters_movies_dataframes, users_cluster_dataframe, users_data, smallest_cluster_size = 11):\r\n",
    "    # clusters_movies_dataframes: will be a list which will contain each dataframes of each cluster movies\r\n",
    "    # users_cluster_dataframe: will be a dataframe which contain users IDs and their cluster no.\r\n",
    "    # smallest_cluster_size: is a smallest cluster size which we want for a cluster to not remove\r\n",
    "    each_cluster_movies = clusters_movies_dataframes.copy()\r\n",
    "    users_cluster = users_cluster_dataframe.copy()\r\n",
    "    # Let convert dataframe in each_cluster_movies to list with containing only movies IDs\r\n",
    "    each_cluster_movies_list = [list(df['movieId']) for df in each_cluster_movies]\r\n",
    "    # First we will prepair a list which containt lists of users in each cluster -> [[Cluster 0 Users], [Cluster 1 Users], ... ,[Cluster N Users]] \r\n",
    "    usersInClusters = list()\r\n",
    "    total_clusters = len(each_cluster_movies)\r\n",
    "    for i in range(total_clusters):\r\n",
    "        usersInClusters.append(list(users_cluster[users_cluster['Cluster'] == i]['userId']))\r\n",
    "    uncategorizedUsers = list()\r\n",
    "    i = 0\r\n",
    "    \r\n",
    "    for j in range(total_clusters):\r\n",
    "        if len(usersInClusters[i]) < smallest_cluster_size:\r\n",
    "            uncategorizedUsers.extend(usersInClusters[i])\r\n",
    "            usersInClusters.pop(i)\r\n",
    "            each_cluster_movies.pop(i)\r\n",
    "            each_cluster_movies_list.pop(i)\r\n",
    "            users_cluster.loc[users_cluster['Cluster'] > i, 'Cluster'] -= 1\r\n",
    "            i -= 1\r\n",
    "        i += 1\r\n",
    "    for user in uncategorizedUsers:\r\n",
    "        elemProbability = list()\r\n",
    "        user_movies = getMoviesOfUser(user, users_data)\r\n",
    "        if len(user_movies) == 0:\r\n",
    "            print(user)\r\n",
    "        user_missed_movies = list()\r\n",
    "        for movies_list in each_cluster_movies_list:\r\n",
    "            count = 0\r\n",
    "            missed_movies = list()\r\n",
    "            for movie in user_movies:\r\n",
    "                if movie in movies_list:\r\n",
    "                    count += 1\r\n",
    "                else:\r\n",
    "                    missed_movies.append(movie)\r\n",
    "            elemProbability.append(count / len(user_movies))\r\n",
    "            user_missed_movies.append(missed_movies)\r\n",
    "        user_new_cluster = np.array(elemProbability).argmax()\r\n",
    "        users_cluster.loc[users_cluster['userId'] == user, 'Cluster'] = user_new_cluster\r\n",
    "        if len(user_missed_movies[user_new_cluster]) > 0:\r\n",
    "            each_cluster_movies[user_new_cluster] = each_cluster_movies[user_new_cluster].append([{'movieId': new_movie, 'Count': 1} for new_movie in user_missed_movies[user_new_cluster]], ignore_index = True)\r\n",
    "    return each_cluster_movies, users_cluster\r\n"
   ],
   "outputs": [],
   "metadata": {}
  },
  {
   "cell_type": "code",
   "execution_count": 34,
   "source": [
    "movies_df_fixed, clusters_fixed = fixClusters(cluster_movies, users_cluster, users_fav_movies, smallest_cluster_size = 6)"
   ],
   "outputs": [],
   "metadata": {
    "scrolled": true
   }
  },
  {
   "cell_type": "code",
   "execution_count": 35,
   "source": [
    "j = 0\r\n",
    "for i in range(15):\r\n",
    "    len_users = users_cluster[users_cluster['Cluster'] == i].shape[0]\r\n",
    "    if len_users < 6:\r\n",
    "        print('Users in Cluster ' + str(i) + ' -> ', len_users)\r\n",
    "        j += 1\r\n",
    "print('Total Cluster which we want to remove -> ', j)"
   ],
   "outputs": [
    {
     "output_type": "stream",
     "name": "stdout",
     "text": [
      "Users in Cluster 0 ->  1\n",
      "Users in Cluster 3 ->  1\n",
      "Users in Cluster 6 ->  1\n",
      "Users in Cluster 8 ->  1\n",
      "Users in Cluster 10 ->  1\n",
      "Users in Cluster 11 ->  2\n",
      "Users in Cluster 12 ->  1\n",
      "Users in Cluster 13 ->  1\n",
      "Users in Cluster 14 ->  1\n",
      "Total Cluster which we want to remove ->  9\n"
     ]
    }
   ],
   "metadata": {}
  },
  {
   "cell_type": "markdown",
   "source": [
    "Now look at the users cluster data frame"
   ],
   "metadata": {}
  },
  {
   "cell_type": "code",
   "execution_count": 36,
   "source": [
    "print('Length of total clusters before fixing is -> ', len(cluster_movies))\r\n",
    "print('Max value in users_cluster dataframe column Cluster is -> ', users_cluster['Cluster'].max())\r\n",
    "print('And dataframe is following')\r\n",
    "users_cluster.T"
   ],
   "outputs": [
    {
     "output_type": "stream",
     "name": "stdout",
     "text": [
      "Length of total clusters before fixing is ->  15\n",
      "Max value in users_cluster dataframe column Cluster is ->  14\n",
      "And dataframe is following\n"
     ]
    },
    {
     "output_type": "execute_result",
     "data": {
      "text/plain": [
       "         0   1   2   3   4   5   6   7   8   9   ...   90   91   92   93   94  \\\n",
       "userId    1   2   8   9  10  11  12  15  16  18  ...  134  137  142  146  150   \n",
       "Cluster   1   1   5   9   9   1  12   1   2   1  ...    1    1    2    1   14   \n",
       "\n",
       "          95   96   97   98   99  \n",
       "userId   151  153  155  156  157  \n",
       "Cluster    1    9    4   11    2  \n",
       "\n",
       "[2 rows x 100 columns]"
      ],
      "text/html": [
       "<div>\n",
       "<style scoped>\n",
       "    .dataframe tbody tr th:only-of-type {\n",
       "        vertical-align: middle;\n",
       "    }\n",
       "\n",
       "    .dataframe tbody tr th {\n",
       "        vertical-align: top;\n",
       "    }\n",
       "\n",
       "    .dataframe thead th {\n",
       "        text-align: right;\n",
       "    }\n",
       "</style>\n",
       "<table border=\"1\" class=\"dataframe\">\n",
       "  <thead>\n",
       "    <tr style=\"text-align: right;\">\n",
       "      <th></th>\n",
       "      <th>0</th>\n",
       "      <th>1</th>\n",
       "      <th>2</th>\n",
       "      <th>3</th>\n",
       "      <th>4</th>\n",
       "      <th>5</th>\n",
       "      <th>6</th>\n",
       "      <th>7</th>\n",
       "      <th>8</th>\n",
       "      <th>9</th>\n",
       "      <th>...</th>\n",
       "      <th>90</th>\n",
       "      <th>91</th>\n",
       "      <th>92</th>\n",
       "      <th>93</th>\n",
       "      <th>94</th>\n",
       "      <th>95</th>\n",
       "      <th>96</th>\n",
       "      <th>97</th>\n",
       "      <th>98</th>\n",
       "      <th>99</th>\n",
       "    </tr>\n",
       "  </thead>\n",
       "  <tbody>\n",
       "    <tr>\n",
       "      <th>userId</th>\n",
       "      <td>1</td>\n",
       "      <td>2</td>\n",
       "      <td>8</td>\n",
       "      <td>9</td>\n",
       "      <td>10</td>\n",
       "      <td>11</td>\n",
       "      <td>12</td>\n",
       "      <td>15</td>\n",
       "      <td>16</td>\n",
       "      <td>18</td>\n",
       "      <td>...</td>\n",
       "      <td>134</td>\n",
       "      <td>137</td>\n",
       "      <td>142</td>\n",
       "      <td>146</td>\n",
       "      <td>150</td>\n",
       "      <td>151</td>\n",
       "      <td>153</td>\n",
       "      <td>155</td>\n",
       "      <td>156</td>\n",
       "      <td>157</td>\n",
       "    </tr>\n",
       "    <tr>\n",
       "      <th>Cluster</th>\n",
       "      <td>1</td>\n",
       "      <td>1</td>\n",
       "      <td>5</td>\n",
       "      <td>9</td>\n",
       "      <td>9</td>\n",
       "      <td>1</td>\n",
       "      <td>12</td>\n",
       "      <td>1</td>\n",
       "      <td>2</td>\n",
       "      <td>1</td>\n",
       "      <td>...</td>\n",
       "      <td>1</td>\n",
       "      <td>1</td>\n",
       "      <td>2</td>\n",
       "      <td>1</td>\n",
       "      <td>14</td>\n",
       "      <td>1</td>\n",
       "      <td>9</td>\n",
       "      <td>4</td>\n",
       "      <td>11</td>\n",
       "      <td>2</td>\n",
       "    </tr>\n",
       "  </tbody>\n",
       "</table>\n",
       "<p>2 rows × 100 columns</p>\n",
       "</div>"
      ]
     },
     "metadata": {},
     "execution_count": 36
    }
   ],
   "metadata": {}
  },
  {
   "cell_type": "code",
   "execution_count": 37,
   "source": [
    "print('Length of total clusters after fixing is -> ', len(movies_df_fixed))\r\n",
    "print('Max value in users_cluster dataframe column Cluster is -> ', clusters_fixed['Cluster'].max())\r\n",
    "print('And fixed dataframe is following')\r\n",
    "clusters_fixed.T"
   ],
   "outputs": [
    {
     "output_type": "stream",
     "name": "stdout",
     "text": [
      "Length of total clusters after fixing is ->  6\n",
      "Max value in users_cluster dataframe column Cluster is ->  5\n",
      "And fixed dataframe is following\n"
     ]
    },
    {
     "output_type": "execute_result",
     "data": {
      "text/plain": [
       "         0   1   2   3   4   5   6   7   8   9   ...   90   91   92   93   94  \\\n",
       "userId    1   2   8   9  10  11  12  15  16  18  ...  134  137  142  146  150   \n",
       "Cluster   0   0   3   5   5   0   5   0   1   0  ...    0    0    1    0    0   \n",
       "\n",
       "          95   96   97   98   99  \n",
       "userId   151  153  155  156  157  \n",
       "Cluster    0    5    2    0    1  \n",
       "\n",
       "[2 rows x 100 columns]"
      ],
      "text/html": [
       "<div>\n",
       "<style scoped>\n",
       "    .dataframe tbody tr th:only-of-type {\n",
       "        vertical-align: middle;\n",
       "    }\n",
       "\n",
       "    .dataframe tbody tr th {\n",
       "        vertical-align: top;\n",
       "    }\n",
       "\n",
       "    .dataframe thead th {\n",
       "        text-align: right;\n",
       "    }\n",
       "</style>\n",
       "<table border=\"1\" class=\"dataframe\">\n",
       "  <thead>\n",
       "    <tr style=\"text-align: right;\">\n",
       "      <th></th>\n",
       "      <th>0</th>\n",
       "      <th>1</th>\n",
       "      <th>2</th>\n",
       "      <th>3</th>\n",
       "      <th>4</th>\n",
       "      <th>5</th>\n",
       "      <th>6</th>\n",
       "      <th>7</th>\n",
       "      <th>8</th>\n",
       "      <th>9</th>\n",
       "      <th>...</th>\n",
       "      <th>90</th>\n",
       "      <th>91</th>\n",
       "      <th>92</th>\n",
       "      <th>93</th>\n",
       "      <th>94</th>\n",
       "      <th>95</th>\n",
       "      <th>96</th>\n",
       "      <th>97</th>\n",
       "      <th>98</th>\n",
       "      <th>99</th>\n",
       "    </tr>\n",
       "  </thead>\n",
       "  <tbody>\n",
       "    <tr>\n",
       "      <th>userId</th>\n",
       "      <td>1</td>\n",
       "      <td>2</td>\n",
       "      <td>8</td>\n",
       "      <td>9</td>\n",
       "      <td>10</td>\n",
       "      <td>11</td>\n",
       "      <td>12</td>\n",
       "      <td>15</td>\n",
       "      <td>16</td>\n",
       "      <td>18</td>\n",
       "      <td>...</td>\n",
       "      <td>134</td>\n",
       "      <td>137</td>\n",
       "      <td>142</td>\n",
       "      <td>146</td>\n",
       "      <td>150</td>\n",
       "      <td>151</td>\n",
       "      <td>153</td>\n",
       "      <td>155</td>\n",
       "      <td>156</td>\n",
       "      <td>157</td>\n",
       "    </tr>\n",
       "    <tr>\n",
       "      <th>Cluster</th>\n",
       "      <td>0</td>\n",
       "      <td>0</td>\n",
       "      <td>3</td>\n",
       "      <td>5</td>\n",
       "      <td>5</td>\n",
       "      <td>0</td>\n",
       "      <td>5</td>\n",
       "      <td>0</td>\n",
       "      <td>1</td>\n",
       "      <td>0</td>\n",
       "      <td>...</td>\n",
       "      <td>0</td>\n",
       "      <td>0</td>\n",
       "      <td>1</td>\n",
       "      <td>0</td>\n",
       "      <td>0</td>\n",
       "      <td>0</td>\n",
       "      <td>5</td>\n",
       "      <td>2</td>\n",
       "      <td>0</td>\n",
       "      <td>1</td>\n",
       "    </tr>\n",
       "  </tbody>\n",
       "</table>\n",
       "<p>2 rows × 100 columns</p>\n",
       "</div>"
      ]
     },
     "metadata": {},
     "execution_count": 37
    }
   ],
   "metadata": {}
  },
  {
   "cell_type": "code",
   "execution_count": 38,
   "source": [
    "print('Users cluster dataFrame for cluster 11 before fixing:')\r\n",
    "users_cluster[users_cluster['Cluster'] == 11].T"
   ],
   "outputs": [
    {
     "output_type": "stream",
     "name": "stdout",
     "text": [
      "Users cluster dataFrame for cluster 11 before fixing:\n"
     ]
    },
    {
     "output_type": "execute_result",
     "data": {
      "text/plain": [
       "         28   98\n",
       "userId   47  156\n",
       "Cluster  11   11"
      ],
      "text/html": [
       "<div>\n",
       "<style scoped>\n",
       "    .dataframe tbody tr th:only-of-type {\n",
       "        vertical-align: middle;\n",
       "    }\n",
       "\n",
       "    .dataframe tbody tr th {\n",
       "        vertical-align: top;\n",
       "    }\n",
       "\n",
       "    .dataframe thead th {\n",
       "        text-align: right;\n",
       "    }\n",
       "</style>\n",
       "<table border=\"1\" class=\"dataframe\">\n",
       "  <thead>\n",
       "    <tr style=\"text-align: right;\">\n",
       "      <th></th>\n",
       "      <th>28</th>\n",
       "      <th>98</th>\n",
       "    </tr>\n",
       "  </thead>\n",
       "  <tbody>\n",
       "    <tr>\n",
       "      <th>userId</th>\n",
       "      <td>47</td>\n",
       "      <td>156</td>\n",
       "    </tr>\n",
       "    <tr>\n",
       "      <th>Cluster</th>\n",
       "      <td>11</td>\n",
       "      <td>11</td>\n",
       "    </tr>\n",
       "  </tbody>\n",
       "</table>\n",
       "</div>"
      ]
     },
     "metadata": {},
     "execution_count": 38
    }
   ],
   "metadata": {}
  },
  {
   "cell_type": "code",
   "execution_count": 39,
   "source": [
    "print('Users cluster dataFrame for cluster 4 after fixing which should be same as 11th cluster before fixing:')\r\n",
    "clusters_fixed[clusters_fixed['Cluster'] == 4].T"
   ],
   "outputs": [
    {
     "output_type": "stream",
     "name": "stdout",
     "text": [
      "Users cluster dataFrame for cluster 4 after fixing which should be same as 11th cluster before fixing:\n"
     ]
    },
    {
     "output_type": "execute_result",
     "data": {
      "text/plain": [
       "         17  19  36  39  42  54  60   68   72   76   84\n",
       "userId   30  34  58  62  65  80  89  103  111  115  127\n",
       "Cluster   4   4   4   4   4   4   4    4    4    4    4"
      ],
      "text/html": [
       "<div>\n",
       "<style scoped>\n",
       "    .dataframe tbody tr th:only-of-type {\n",
       "        vertical-align: middle;\n",
       "    }\n",
       "\n",
       "    .dataframe tbody tr th {\n",
       "        vertical-align: top;\n",
       "    }\n",
       "\n",
       "    .dataframe thead th {\n",
       "        text-align: right;\n",
       "    }\n",
       "</style>\n",
       "<table border=\"1\" class=\"dataframe\">\n",
       "  <thead>\n",
       "    <tr style=\"text-align: right;\">\n",
       "      <th></th>\n",
       "      <th>17</th>\n",
       "      <th>19</th>\n",
       "      <th>36</th>\n",
       "      <th>39</th>\n",
       "      <th>42</th>\n",
       "      <th>54</th>\n",
       "      <th>60</th>\n",
       "      <th>68</th>\n",
       "      <th>72</th>\n",
       "      <th>76</th>\n",
       "      <th>84</th>\n",
       "    </tr>\n",
       "  </thead>\n",
       "  <tbody>\n",
       "    <tr>\n",
       "      <th>userId</th>\n",
       "      <td>30</td>\n",
       "      <td>34</td>\n",
       "      <td>58</td>\n",
       "      <td>62</td>\n",
       "      <td>65</td>\n",
       "      <td>80</td>\n",
       "      <td>89</td>\n",
       "      <td>103</td>\n",
       "      <td>111</td>\n",
       "      <td>115</td>\n",
       "      <td>127</td>\n",
       "    </tr>\n",
       "    <tr>\n",
       "      <th>Cluster</th>\n",
       "      <td>4</td>\n",
       "      <td>4</td>\n",
       "      <td>4</td>\n",
       "      <td>4</td>\n",
       "      <td>4</td>\n",
       "      <td>4</td>\n",
       "      <td>4</td>\n",
       "      <td>4</td>\n",
       "      <td>4</td>\n",
       "      <td>4</td>\n",
       "      <td>4</td>\n",
       "    </tr>\n",
       "  </tbody>\n",
       "</table>\n",
       "</div>"
      ]
     },
     "metadata": {},
     "execution_count": 39
    }
   ],
   "metadata": {}
  },
  {
   "cell_type": "code",
   "execution_count": 40,
   "source": [
    "print('Size of movies dataframe after fixing -> ', len(movies_df_fixed))"
   ],
   "outputs": [
    {
     "output_type": "stream",
     "name": "stdout",
     "text": [
      "Size of movies dataframe after fixing ->  6\n"
     ]
    }
   ],
   "metadata": {}
  },
  {
   "cell_type": "code",
   "execution_count": 41,
   "source": [
    "for i in range(len(movies_df_fixed)):\r\n",
    "    len_users = clusters_fixed[clusters_fixed['Cluster'] == i].shape[0]\r\n",
    "    print('Users in Cluster ' + str(i) + ' -> ', len_users)"
   ],
   "outputs": [
    {
     "output_type": "stream",
     "name": "stdout",
     "text": [
      "Users in Cluster 0 ->  36\n",
      "Users in Cluster 1 ->  14\n",
      "Users in Cluster 2 ->  8\n",
      "Users in Cluster 3 ->  13\n",
      "Users in Cluster 4 ->  11\n",
      "Users in Cluster 5 ->  18\n"
     ]
    }
   ],
   "metadata": {}
  },
  {
   "cell_type": "code",
   "execution_count": 42,
   "source": [
    "for i in range(len(movies_df_fixed)):\r\n",
    "    print('Total movies in Cluster ' + str(i) + ' -> ', movies_df_fixed[i].shape[0])"
   ],
   "outputs": [
    {
     "output_type": "stream",
     "name": "stdout",
     "text": [
      "Total movies in Cluster 0 ->  48\n",
      "Total movies in Cluster 1 ->  37\n",
      "Total movies in Cluster 2 ->  11\n",
      "Total movies in Cluster 3 ->  22\n",
      "Total movies in Cluster 4 ->  32\n",
      "Total movies in Cluster 5 ->  50\n"
     ]
    }
   ],
   "metadata": {}
  },
  {
   "cell_type": "code",
   "execution_count": 43,
   "source": [
    "class saveLoadFiles:\r\n",
    "    def save(self, filename, data):\r\n",
    "        try:\r\n",
    "            file = open('datasets/' + filename + '.pkl', 'wb')\r\n",
    "            pickle.dump(data, file)\r\n",
    "        except:\r\n",
    "            err = 'Error: {0}, {1}'.format(exc_info()[0], exc_info()[1])\r\n",
    "            print(err)\r\n",
    "            file.close()\r\n",
    "            return [False, err]\r\n",
    "        else:\r\n",
    "            file.close()\r\n",
    "            return [True]\r\n",
    "    def load(self, filename):\r\n",
    "        try:\r\n",
    "            file = open('datasets/' + filename + '.pkl', 'rb')\r\n",
    "        except:\r\n",
    "            err = 'Error: {0}, {1}'.format(exc_info()[0], exc_info()[1])\r\n",
    "            print(err)\r\n",
    "            file.close()\r\n",
    "            return [False, err]\r\n",
    "        else:\r\n",
    "            data = pickle.load(file)\r\n",
    "            file.close()\r\n",
    "            return data\r\n",
    "    def loadClusterMoviesDataset(self):\r\n",
    "        return self.load('clusters_movies_dataset')\r\n",
    "    def saveClusterMoviesDataset(self, data):\r\n",
    "        return self.save('clusters_movies_dataset', data)\r\n",
    "    def loadUsersClusters(self):\r\n",
    "        return self.load('users_clusters')\r\n",
    "    def saveUsersClusters(self, data):\r\n",
    "        return self.save('users_clusters', data)"
   ],
   "outputs": [],
   "metadata": {}
  },
  {
   "cell_type": "code",
   "execution_count": 44,
   "source": [
    "saveLoadFile = saveLoadFiles()\r\n",
    "print(saveLoadFile.saveClusterMoviesDataset(movies_df_fixed))\r\n",
    "print(saveLoadFile.saveUsersClusters(clusters_fixed))"
   ],
   "outputs": [
    {
     "output_type": "stream",
     "name": "stdout",
     "text": [
      "[True]\n",
      "[True]\n"
     ]
    }
   ],
   "metadata": {}
  },
  {
   "cell_type": "code",
   "execution_count": 45,
   "source": [
    "load_movies_list, load_users_clusters = saveLoadFile.loadClusterMoviesDataset(), saveLoadFile.loadUsersClusters()\r\n",
    "print('Type of Loading list of Movies dataframes of 5 Clusters: ', type(load_movies_list), ' and Length is: ', len(load_movies_list))\r\n",
    "print('Type of Loading 100 Users clusters Data: ', type(load_users_clusters), ' and Shape is: ', load_users_clusters.shape)"
   ],
   "outputs": [
    {
     "output_type": "stream",
     "name": "stdout",
     "text": [
      "Type of Loading list of Movies dataframes of 5 Clusters:  <class 'list'>  and Length is:  6\n",
      "Type of Loading 100 Users clusters Data:  <class 'pandas.core.frame.DataFrame'>  and Shape is:  (100, 2)\n"
     ]
    }
   ],
   "metadata": {}
  },
  {
   "cell_type": "code",
   "execution_count": 46,
   "source": [
    "class userRequestedFor:\r\n",
    "    def __init__(self, user_id, users_data):\r\n",
    "        self.users_data = users_data.copy()\r\n",
    "        self.user_id = user_id\r\n",
    "        # Find User Cluster\r\n",
    "        users_cluster = saveLoadFiles().loadUsersClusters()\r\n",
    "        self.user_cluster = int(users_cluster[users_cluster['userId'] == self.user_id]['Cluster'])\r\n",
    "        # Load User Cluster Movies Dataframe\r\n",
    "        self.movies_list = saveLoadFiles().loadClusterMoviesDataset()\r\n",
    "        self.cluster_movies = self.movies_list[self.user_cluster] # dataframe\r\n",
    "        self.cluster_movies_list = list(self.cluster_movies['movieId']) # list\r\n",
    "    def updatedFavouriteMoviesList(self, new_movie_Id):\r\n",
    "        if new_movie_Id in self.cluster_movies_list:\r\n",
    "            self.cluster_movies.loc[self.cluster_movies['movieId'] == new_movie_Id, 'Count'] += 1\r\n",
    "        else:\r\n",
    "            self.cluster_movies = self.cluster_movies.append([{'movieId':new_movie_Id, 'Count': 1}], ignore_index=True)\r\n",
    "        self.cluster_movies.sort_values(by = ['Count'], ascending = False, inplace= True)\r\n",
    "        self.movies_list[self.user_cluster] = self.cluster_movies\r\n",
    "        saveLoadFiles().saveClusterMoviesDataset(self.movies_list)\r\n",
    "\r\n",
    "    def recommendMostFavouriteMovies(self):\r\n",
    "        try:\r\n",
    "            user_movies = getMoviesOfUser(self.user_id, self.users_data)\r\n",
    "            cluster_movies_list = self.cluster_movies_list.copy()\r\n",
    "            for user_movie in user_movies:\r\n",
    "                if user_movie in cluster_movies_list:\r\n",
    "                    cluster_movies_list.remove(user_movie)\r\n",
    "            return [True, cluster_movies_list]\r\n",
    "        except KeyError:\r\n",
    "            err = \"User history does not exist\"\r\n",
    "            print(err)\r\n",
    "            return [False, err]\r\n",
    "        except:\r\n",
    "            err = 'Error: {0}, {1}'.format(exc_info()[0], exc_info()[1])\r\n",
    "            print(err)\r\n",
    "            return [False, err]"
   ],
   "outputs": [],
   "metadata": {}
  },
  {
   "cell_type": "code",
   "execution_count": 47,
   "source": [
    "movies_metadata = pd.read_csv(\r\n",
    "    './Prepairing Data/From Data/movies_metadata.csv', \r\n",
    "    usecols = ['id', 'genres', 'original_title'])\r\n",
    "\r\n",
    "movies_metadata = movies_metadata.loc[\r\n",
    "    movies_metadata['id'].isin(list(map(str, np.unique(users_fav_movies['movieId']))))].reset_index(drop=True)\r\n",
    "print('Let take a look at movie metadata for all those movies which we were had in our dataset')\r\n",
    "movies_metadata"
   ],
   "outputs": [
    {
     "output_type": "stream",
     "name": "stdout",
     "text": [
      "Let take a look at movie metadata for all those movies which we were had in our dataset\n"
     ]
    },
    {
     "output_type": "execute_result",
     "data": {
      "text/plain": [
       "                                               genres   id  \\\n",
       "0   [{'id': 80, 'name': 'Crime'}, {'id': 35, 'name...    5   \n",
       "1   [{'id': 12, 'name': 'Adventure'}, {'id': 28, '...   11   \n",
       "2   [{'id': 53, 'name': 'Thriller'}, {'id': 80, 'n...  101   \n",
       "3   [{'id': 18, 'name': 'Drama'}, {'id': 9648, 'na...  110   \n",
       "4   [{'id': 28, 'name': 'Action'}, {'id': 53, 'nam...    6   \n",
       "..                                                ...  ...   \n",
       "58  [{'id': 27, 'name': 'Horror'}, {'id': 53, 'nam...   17   \n",
       "59  [{'id': 18, 'name': 'Drama'}, {'id': 53, 'name...  186   \n",
       "60  [{'id': 12, 'name': 'Adventure'}, {'id': 14, '...   58   \n",
       "61  [{'id': 28, 'name': 'Action'}, {'id': 12, 'nam...   82   \n",
       "62  [{'id': 18, 'name': 'Drama'}, {'id': 10749, 'n...   86   \n",
       "\n",
       "                                original_title  \n",
       "0                                   Four Rooms  \n",
       "1                                    Star Wars  \n",
       "2                                         Léon  \n",
       "3                       Trois couleurs : Rouge  \n",
       "4                               Judgment Night  \n",
       "..                                         ...  \n",
       "58                                    The Dark  \n",
       "59                         Lucky Number Slevin  \n",
       "60  Pirates of the Caribbean: Dead Man's Chest  \n",
       "61                                  Miami Vice  \n",
       "62                           Elementarteilchen  \n",
       "\n",
       "[63 rows x 3 columns]"
      ],
      "text/html": [
       "<div>\n",
       "<style scoped>\n",
       "    .dataframe tbody tr th:only-of-type {\n",
       "        vertical-align: middle;\n",
       "    }\n",
       "\n",
       "    .dataframe tbody tr th {\n",
       "        vertical-align: top;\n",
       "    }\n",
       "\n",
       "    .dataframe thead th {\n",
       "        text-align: right;\n",
       "    }\n",
       "</style>\n",
       "<table border=\"1\" class=\"dataframe\">\n",
       "  <thead>\n",
       "    <tr style=\"text-align: right;\">\n",
       "      <th></th>\n",
       "      <th>genres</th>\n",
       "      <th>id</th>\n",
       "      <th>original_title</th>\n",
       "    </tr>\n",
       "  </thead>\n",
       "  <tbody>\n",
       "    <tr>\n",
       "      <th>0</th>\n",
       "      <td>[{'id': 80, 'name': 'Crime'}, {'id': 35, 'name...</td>\n",
       "      <td>5</td>\n",
       "      <td>Four Rooms</td>\n",
       "    </tr>\n",
       "    <tr>\n",
       "      <th>1</th>\n",
       "      <td>[{'id': 12, 'name': 'Adventure'}, {'id': 28, '...</td>\n",
       "      <td>11</td>\n",
       "      <td>Star Wars</td>\n",
       "    </tr>\n",
       "    <tr>\n",
       "      <th>2</th>\n",
       "      <td>[{'id': 53, 'name': 'Thriller'}, {'id': 80, 'n...</td>\n",
       "      <td>101</td>\n",
       "      <td>Léon</td>\n",
       "    </tr>\n",
       "    <tr>\n",
       "      <th>3</th>\n",
       "      <td>[{'id': 18, 'name': 'Drama'}, {'id': 9648, 'na...</td>\n",
       "      <td>110</td>\n",
       "      <td>Trois couleurs : Rouge</td>\n",
       "    </tr>\n",
       "    <tr>\n",
       "      <th>4</th>\n",
       "      <td>[{'id': 28, 'name': 'Action'}, {'id': 53, 'nam...</td>\n",
       "      <td>6</td>\n",
       "      <td>Judgment Night</td>\n",
       "    </tr>\n",
       "    <tr>\n",
       "      <th>...</th>\n",
       "      <td>...</td>\n",
       "      <td>...</td>\n",
       "      <td>...</td>\n",
       "    </tr>\n",
       "    <tr>\n",
       "      <th>58</th>\n",
       "      <td>[{'id': 27, 'name': 'Horror'}, {'id': 53, 'nam...</td>\n",
       "      <td>17</td>\n",
       "      <td>The Dark</td>\n",
       "    </tr>\n",
       "    <tr>\n",
       "      <th>59</th>\n",
       "      <td>[{'id': 18, 'name': 'Drama'}, {'id': 53, 'name...</td>\n",
       "      <td>186</td>\n",
       "      <td>Lucky Number Slevin</td>\n",
       "    </tr>\n",
       "    <tr>\n",
       "      <th>60</th>\n",
       "      <td>[{'id': 12, 'name': 'Adventure'}, {'id': 14, '...</td>\n",
       "      <td>58</td>\n",
       "      <td>Pirates of the Caribbean: Dead Man's Chest</td>\n",
       "    </tr>\n",
       "    <tr>\n",
       "      <th>61</th>\n",
       "      <td>[{'id': 28, 'name': 'Action'}, {'id': 12, 'nam...</td>\n",
       "      <td>82</td>\n",
       "      <td>Miami Vice</td>\n",
       "    </tr>\n",
       "    <tr>\n",
       "      <th>62</th>\n",
       "      <td>[{'id': 18, 'name': 'Drama'}, {'id': 10749, 'n...</td>\n",
       "      <td>86</td>\n",
       "      <td>Elementarteilchen</td>\n",
       "    </tr>\n",
       "  </tbody>\n",
       "</table>\n",
       "<p>63 rows × 3 columns</p>\n",
       "</div>"
      ]
     },
     "metadata": {},
     "execution_count": 47
    }
   ],
   "metadata": {}
  },
  {
   "cell_type": "markdown",
   "source": [
    "Here is the list of movies which user with ID 12 has added into its favourite movies"
   ],
   "metadata": {}
  },
  {
   "cell_type": "code",
   "execution_count": 59,
   "source": [
    "user12Movies = getMoviesOfUser(12, users_fav_movies)\r\n",
    "for movie in user12Movies:\r\n",
    "    title = list(movies_metadata.loc[movies_metadata['id'] == str(movie)]['original_title'])\r\n",
    "    if title != []:\r\n",
    "        print('Movie title: ', title, ', Genres: [', end = '')\r\n",
    "        genres = ast.literal_eval(movies_metadata.loc[movies_metadata['id'] == str(movie)]['genres'].values[0].split('[')[1].split(']')[0])\r\n",
    "        for genre in genres:\r\n",
    "            print(genre['name'], ', ', end = '')\r\n",
    "        print(end = '\\b\\b]')\r\n",
    "        print('')"
   ],
   "outputs": [
    {
     "output_type": "stream",
     "name": "stdout",
     "text": [
      "Movie title:  ['Dancer in the Dark'] , Genres: [Drama , Crime , Music , \b\b]\n",
      "Movie title:  ['The Dark'] , Genres: [Horror , Thriller , Mystery , \b\b]\n",
      "Movie title:  ['Miami Vice'] , Genres: [Action , Adventure , Crime , Thriller , \b\b]\n",
      "Movie title:  ['Tron'] , Genres: [Science Fiction , Action , Adventure , \b\b]\n",
      "Movie title:  ['The Lord of the Rings'] , Genres: [Fantasy , Drama , Animation , Adventure , \b\b]\n",
      "Movie title:  ['48 Hrs.'] , Genres: [Thriller , Action , Comedy , Crime , Drama , \b\b]\n",
      "Movie title:  ['Edward Scissorhands'] , Genres: [Fantasy , Drama , Romance , \b\b]\n",
      "Movie title:  ['Le Grand Bleu'] , Genres: [Adventure , Drama , Romance , \b\b]\n",
      "Movie title:  ['Saw'] , Genres: [Horror , Mystery , Crime , \b\b]\n",
      "Movie title:  [\"Le fabuleux destin d'Amélie Poulain\"] , Genres: [Comedy , Romance , \b\b]\n"
     ]
    }
   ],
   "metadata": {}
  },
  {
   "cell_type": "markdown",
   "source": [
    "And finally these are the top 10 recommended movies for that user"
   ],
   "metadata": {}
  },
  {
   "cell_type": "code",
   "execution_count": 57,
   "source": [
    "user12Recommendations = userRequestedFor(12, users_fav_movies).recommendMostFavouriteMovies()[1]\r\n",
    "for movie in user12Recommendations[:15]:\r\n",
    "    title = list(movies_metadata.loc[movies_metadata['id'] == str(movie)]['original_title'])\r\n",
    "    if title != []:\r\n",
    "        print('Movie title: ', title, ', Genres: [', end = '')\r\n",
    "        genres = ast.literal_eval(movies_metadata.loc[movies_metadata['id'] == str(movie)]['genres'].values[0].split('[')[1].split(']')[0])\r\n",
    "        for genre in genres:\r\n",
    "            print(genre, ', ', end = '')\r\n",
    "        print(']', end = '')\r\n",
    "        print()"
   ],
   "outputs": [
    {
     "output_type": "stream",
     "name": "stdout",
     "text": [
      "Movie title:  ['Back to the Future Part II'] , Genres: [{'id': 12, 'name': 'Adventure'} , {'id': 35, 'name': 'Comedy'} , {'id': 10751, 'name': 'Family'} , {'id': 878, 'name': 'Science Fiction'} , ]\n",
      "Movie title:  [\"Ocean's Eleven\"] , Genres: [{'id': 53, 'name': 'Thriller'} , {'id': 80, 'name': 'Crime'} , ]\n",
      "Movie title:  ['Trois couleurs : Rouge'] , Genres: [{'id': 18, 'name': 'Drama'} , {'id': 9648, 'name': 'Mystery'} , {'id': 10749, 'name': 'Romance'} , ]\n",
      "Movie title:  ['Ariel'] , Genres: [{'id': 18, 'name': 'Drama'} , {'id': 80, 'name': 'Crime'} , ]\n",
      "Movie title:  ['Million Dollar Baby'] , Genres: [id , name , ]\n",
      "Movie title:  ['20,000 Leagues Under the Sea'] , Genres: [{'id': 12, 'name': 'Adventure'} , {'id': 18, 'name': 'Drama'} , {'id': 878, 'name': 'Science Fiction'} , ]\n",
      "Movie title:  ['A Clockwork Orange'] , Genres: [{'id': 878, 'name': 'Science Fiction'} , {'id': 18, 'name': 'Drama'} , ]\n",
      "Movie title:  ['The Endless Summer'] , Genres: [id , name , ]\n",
      "Movie title:  ['Judgment Night'] , Genres: [{'id': 28, 'name': 'Action'} , {'id': 53, 'name': 'Thriller'} , {'id': 80, 'name': 'Crime'} , ]\n",
      "Movie title:  ['Scarface'] , Genres: [{'id': 28, 'name': 'Action'} , {'id': 80, 'name': 'Crime'} , {'id': 18, 'name': 'Drama'} , {'id': 53, 'name': 'Thriller'} , ]\n",
      "Movie title:  ['Italiensk for begyndere'] , Genres: [{'id': 35, 'name': 'Comedy'} , {'id': 18, 'name': 'Drama'} , {'id': 10749, 'name': 'Romance'} , ]\n",
      "Movie title:  ['Star Trek IV: The Voyage Home'] , Genres: [{'id': 878, 'name': 'Science Fiction'} , {'id': 12, 'name': 'Adventure'} , ]\n"
     ]
    }
   ],
   "metadata": {
    "scrolled": false
   }
  },
  {
   "cell_type": "code",
   "execution_count": null,
   "source": [],
   "outputs": [],
   "metadata": {}
  },
  {
   "cell_type": "code",
   "execution_count": null,
   "source": [],
   "outputs": [],
   "metadata": {}
  },
  {
   "cell_type": "code",
   "execution_count": null,
   "source": [],
   "outputs": [],
   "metadata": {}
  },
  {
   "cell_type": "code",
   "execution_count": null,
   "source": [],
   "outputs": [],
   "metadata": {}
  }
 ],
 "metadata": {
  "colab": {
   "name": "AI Movies Recommendation System with Clustering Based K-Means Algorithm.ipynb",
   "provenance": [],
   "toc_visible": true
  },
  "kernelspec": {
   "display_name": "Python 3 (ipykernel)",
   "language": "python",
   "name": "python3"
  },
  "language_info": {
   "codemirror_mode": {
    "name": "ipython",
    "version": 3
   },
   "file_extension": ".py",
   "mimetype": "text/x-python",
   "name": "python",
   "nbconvert_exporter": "python",
   "pygments_lexer": "ipython3",
   "version": "3.8.6"
  }
 },
 "nbformat": 4,
 "nbformat_minor": 1
}